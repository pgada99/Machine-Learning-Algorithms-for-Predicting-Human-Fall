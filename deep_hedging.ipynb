{
  "nbformat": 4,
  "nbformat_minor": 0,
  "metadata": {
    "colab": {
      "name": "deep_hedging.ipynb",
      "provenance": [],
      "authorship_tag": "ABX9TyO5MkzDqZAsVaWPknX5Y37G",
      "include_colab_link": true
    },
    "kernelspec": {
      "name": "python3",
      "display_name": "Python 3"
    },
    "language_info": {
      "name": "python"
    }
  },
  "cells": [
    {
      "cell_type": "markdown",
      "metadata": {
        "id": "view-in-github",
        "colab_type": "text"
      },
      "source": [
        "<a href=\"https://colab.research.google.com/github/pgada99/Machine-Learning-Algorithms-for-Predicting-Human-Fall/blob/main/deep_hedging.ipynb\" target=\"_parent\"><img src=\"https://colab.research.google.com/assets/colab-badge.svg\" alt=\"Open In Colab\"/></a>"
      ]
    },
    {
      "cell_type": "code",
      "execution_count": 4,
      "metadata": {
        "id": "Kglcu0tqM94u"
      },
      "outputs": [],
      "source": [
        "import numpy as np\n",
        "import matplotlib.pyplot as plt\n",
        "from scipy.stats import norm"
      ]
    },
    {
      "cell_type": "code",
      "source": [
        "# data\n",
        "\n",
        "S0    = 1    # initial stock price\n",
        "K     = 1    # strike price\n",
        "sigma = .20  # volatility\n",
        "r     = 0    # risk-free rate\n",
        "T     = 1    # maturity\n",
        "\n",
        "m     = 365   # number of training samples\n",
        "n     = 10**4 # number of trajectories of underlying"
      ],
      "metadata": {
        "id": "Rd1P2ny1PeCg"
      },
      "execution_count": 121,
      "outputs": []
    },
    {
      "cell_type": "code",
      "source": [
        "# model discretized black scholes hedge with neural networks\n",
        "\n",
        "def generate_gbm(S0,sigma,r,T,m,n,random_seed = 42):\n",
        "  ''' Generate stock price dinamics.\n",
        "  Parameters\n",
        "  -----------\n",
        "  S0 : float\n",
        "    initial stock price\n",
        "  K : float\n",
        "    strike price\n",
        "  sigma : float\n",
        "    volatility\n",
        "  r : float\n",
        "    risk-free rate\n",
        "  T : float\n",
        "    time to maturity\n",
        "  n : int\n",
        "    number of simulations\n",
        "  '''\n",
        "  np.random.seed(random_seed)\n",
        "  bm = np.random.normal(0,1,(n,m))*np.sqrt(T/m)\n",
        "  bm[:,0] = np.zeros(shape=(n))\n",
        "  bm = np.cumsum(bm, axis = 1)\n",
        "  t = np.tile(np.linspace(0,1,m),(n,1))\n",
        "  S = S0*np.exp((r-sigma**2/2)*t + sigma*bm)\n",
        "\n",
        "  return S"
      ],
      "metadata": {
        "id": "MBFfpZ9HPZ4j"
      },
      "execution_count": 122,
      "outputs": []
    },
    {
      "cell_type": "code",
      "source": [
        "def bs_call_price(S,K,r,sigma,T,d=0):\n",
        "\t'''Computes Black-Scholes price of a Call Option.\n",
        "\tParameters:\n",
        "\t------------------------------------\n",
        "\t\tS = stock prices (shape = (n,m))\n",
        "\t\t\tn = number of simulations\n",
        "\t\t\tm = number of time steps\n",
        "\t\tK = exercise price\n",
        "\t\tr = risk-free rate\n",
        "\t\tsigma = volatility\n",
        "\t\tT = time to maturity\n",
        "\t\td = dividend-rate (optional)\n",
        "\tReturns:\n",
        "\t-----------------------------------\n",
        "\t\tprice of the option\n",
        "\t'''\n",
        "\t\t\t# Ignore division by 0 warning (expected behaviors as the limits of CDF is defined).\n",
        "\t\t\twith np.errstate(divide='ignore'):\n",
        "\t\t\t\td1 = np.divide(np.log(S / K) + (r - d + 0.5 * sigma ** 2) * T, sigma * np.sqrt(T))\n",
        "\t\t\t\td2 = np.divide(np.log(S / K) + (r - d - 0.5 * sigma ** 2) * T, sigma * np.sqrt(T))\n",
        "\t\t\t\n",
        "\t\t\treturn (S * norm.cdf(d1, 0.0, 1.0) - K * np.exp(-r * T) * norm.cdf(d2, 0.0, 1.0))"
      ],
      "metadata": {
        "id": "GOluCNbApG2Y"
      },
      "execution_count": 13,
      "outputs": []
    },
    {
      "cell_type": "code",
      "source": [
        "# black-scholes delta\n",
        "def bs_call_delta(S,K,r,sigma,T,d=0):\n",
        "  '''Computes Black-Scholes Delta of a Call Option.\n",
        "\tParameters:\n",
        "\t------------------------------------\n",
        "\t\tS = stock prices (shape = (n,m))\n",
        "\t\t\tn = number of simulations\n",
        "\t\t\tm = number of time steps\n",
        "\t\tK = exercise price\n",
        "\t\tr = risk-free rate\n",
        "\t\tsigma = volatility\n",
        "\t\tT = time to maturity\n",
        "\t\td = dividend-rate (optional)\n",
        "\tReturns:\n",
        "\t-----------------------------------\n",
        "\t\tdelta of the option - N[d1]\n",
        "  '''\n",
        "  d1 = np.divide(np.log(S / K) + (r - d + 0.5 * sigma ** 2) * T, sigma * np.sqrt(T))\n",
        "  return norm.cdf(d1,0,1)"
      ],
      "metadata": {
        "id": "O-o6A4eTipSQ"
      },
      "execution_count": 14,
      "outputs": []
    },
    {
      "cell_type": "markdown",
      "source": [
        "Simulating 20 stock price movements."
      ],
      "metadata": {
        "id": "x0qd6T9cV497"
      }
    },
    {
      "cell_type": "code",
      "source": [
        "stocks = generate_gbm(S0,sigma,r,T,m,n);"
      ],
      "metadata": {
        "id": "-mnpeGYMSh_j"
      },
      "execution_count": 123,
      "outputs": []
    },
    {
      "cell_type": "markdown",
      "source": [
        "**Black-Scholes Hedge** | For a process $S_t$ the PnL will be the following: \n",
        "\n",
        "$$ \\text{PnL} = \\underbrace{C_{\\text{BS}}-(S_T-K)^+}_{\\text{Short-Call Position}} + \\underbrace{\\sum_{i=1}^m (S_{t_i}-S_{t_{i-1}})\\cdot{\\Delta_{\\text{BS}}}({t_i})}_{\\text{Underlying Price}}$$\n",
        "\n",
        "where $\\Delta_{t_i} = N[d_1]$."
      ],
      "metadata": {
        "id": "mMQaqn6-bnwX"
      }
    },
    {
      "cell_type": "code",
      "source": [
        "# black scholes hedge\n",
        "pnl = bs_call_price(stocks[:,0],K,r,sigma,T) - np.maximum(stocks[:,-1]-K, 0) + np.sum((stocks[:,1:]-stocks[:,0:-1])*(bs_call_delta(stocks[:,0:-1],K,r,sigma,np.vstack([T-np.linspace(0,T,m)[0:-1]]*n),d=0)),axis=1)"
      ],
      "metadata": {
        "id": "Vb7yK8DkdQIn"
      },
      "execution_count": 117,
      "outputs": []
    },
    {
      "cell_type": "code",
      "source": [
        "#pnl = bs_call_pnl(stocks, np.maximum(stocks[:,-1]-K,0), bs_call_delta(stocks[:,0:-1],K,r,sigma,np.vstack([T-np.linspace(0,T,m)[0:-1]]*n),d=0), )\n",
        "plt.figure(figsize = (10,7))\n",
        "plt.hist(pnl, bins = 50, color = 'cadetblue', density = True, label = 'Black-Scholes Hedge');\n",
        "plt.title('Black-Scholes PnL');\n",
        "plt.xlabel('PnL');"
      ],
      "metadata": {
        "colab": {
          "base_uri": "https://localhost:8080/",
          "height": 457
        },
        "id": "TLrZLfQXL4hr",
        "outputId": "bfd18652-3184-454a-abc6-92df763df52b"
      },
      "execution_count": 130,
      "outputs": [
        {
          "output_type": "display_data",
          "data": {
            "image/png": "[encoded data removed]",
            "text/plain": [
              "<Figure size 720x504 with 1 Axes>"
            ]
          },
          "metadata": {
            "needs_background": "light"
          }
        }
      ]
    },
    {
      "cell_type": "code",
      "source": [
        "x = np.linspace(0.5,2,1000)\n",
        "plt.figure(figsize = (7,5))\n",
        "plt.plot(x, bs_call_delta(x,K,r,sigma,T), color = 'cadetblue');\n",
        "plt.xlabel('Stocks $S_t$');\n",
        "plt.title('Delta')"
      ],
      "metadata": {
        "colab": {
          "base_uri": "https://localhost:8080/",
          "height": 369
        },
        "id": "4nm9MMH9e0So",
        "outputId": "9dd75328-4783-4618-a68d-0876abf76db0"
      },
      "execution_count": 132,
      "outputs": [
        {
          "output_type": "execute_result",
          "data": {
            "text/plain": [
              "Text(0.5, 1.0, 'Delta')"
            ]
          },
          "metadata": {},
          "execution_count": 132
        },
        {
          "output_type": "display_data",
          "data": {
            "image/png": "[encoded data removed]",
            "text/plain": [
              "<Figure size 504x360 with 1 Axes>"
            ]
          },
          "metadata": {
            "needs_background": "light"
          }
        }
      ]
    },
    {
      "cell_type": "markdown",
      "source": [
        "For practical purposes it not feasible to allow the policy to depend on the entire state space $S_t$. It is reasonable to assume that the hedging decision at some $t$ mainly depends on the prices of the hedging instruments and the current position in them. We may choose to work with transformed versions of the raw prices: for example, option prices are typically converted to “implied volatilities”, and equity prices are represented in terms of their logarithms. Our basic feature vector is therefore of the form $f = f (H)$."
      ],
      "metadata": {
        "id": "RPkWIlWjY-Lh"
      }
    },
    {
      "cell_type": "code",
      "source": [
        "def bs_call_pnl(S = None, payoff = None, delta = None, dt = None, risk_free = None, \\\n",
        "\t\t\t\t\t\t\t\t\tfinal_period_cost = None, epsilon = None, cost_structure=\"proportional\"):\n",
        "\t\t# Compute Black-Scholes PnL (for a short position, i.e. the Bank sells\n",
        "\t\t# a call option. The model delta from Quantlib is a long delta.\n",
        "\t\tN = S.shape[1]-1\n",
        "\t\t\n",
        "\t\tPnL_BS = np.multiply(S[:,0], -delta[:,0]) \\\n",
        "\t\t\n",
        "\t\tif cost_structure == \"proportional\":\n",
        "\t\t\tPnL_BS -= np.abs(delta[:,0])*S[:,0]*epsilon\n",
        "\t\telif cost_structure == \"constant\":\n",
        "\t\t\tPnL_BS -= epsilon\n",
        "\t\t\t\t\n",
        "\t\tPnL_BS = PnL_BS*np.exp(risk_free*dt)\n",
        "\t\t\n",
        "\t\tfor t in range(1, N):\n",
        "\t\t\tPnL_BS += np.multiply(S[:,t], -delta[:,t] + delta[:,t-1])\n",
        "\t\t\t\n",
        "\t\t\tif cost_structure == \"proportional\":\n",
        "\t\t\t\tPnL_BS -= np.abs(delta[:,t] -delta[:,t-1])*S[:,t]*epsilon\n",
        "\t\t\telif cost_structure == \"constant\":\n",
        "\t\t\t\tPnL_BS -= epsilon\n",
        "\t\t\t\t\n",
        "\t\t\tPnL_BS = PnL_BS*np.exp(risk_free*dt)\n",
        "\n",
        "\t\tPnL_BS += np.multiply(S[:,N],delta[:,N-1]) + payoff \n",
        "\t\t\n",
        "\t\tif final_period_cost:\n",
        "\t\t\tif cost_structure == \"proportional\":\n",
        "\t\t\t\tPnL_BS -= np.abs(delta[:,N-1])*S[:,N]*epsilon\n",
        "\t\t\telif cost_structure == \"constant\":\n",
        "\t\t\t\tPnL_BS -= epsilon\n",
        "\t\t\t\t\n",
        "\t\treturn PnL_BS"
      ],
      "metadata": {
        "id": "W-y_rFYyjjkH"
      },
      "execution_count": 79,
      "outputs": []
    },
    {
      "cell_type": "code",
      "source": [
        "x = np.linspace(0.5,2,1000)\n",
        "plt.plot(x, bs_call_delta(x,K,r,sigma,T))"
      ],
      "metadata": {
        "colab": {
          "base_uri": "https://localhost:8080/",
          "height": 281
        },
        "id": "_L0oFZfzcAoH",
        "outputId": "150bbf2a-06f2-4492-f347-54fb0b146616"
      },
      "execution_count": null,
      "outputs": [
        {
          "output_type": "execute_result",
          "data": {
            "text/plain": [
              "[<matplotlib.lines.Line2D at 0x7f77a35371d0>]"
            ]
          },
          "metadata": {},
          "execution_count": 38
        },
        {
          "output_type": "display_data",
          "data": {
            "image/png": "[encoded data removed]",
            "text/plain": [
              "<Figure size 432x288 with 1 Axes>"
            ]
          },
          "metadata": {
            "needs_background": "light"
          }
        }
      ]
    },
    {
      "cell_type": "code",
      "source": [
        "def bs_call_pricing(S,T,r,K,sigma):\n",
        "  (n,m) = np.shape(S)\n",
        "  call = np.zeros(shape=(n,m))\n",
        "  ttm = T-np.tile(np.linspace(0,T,m),(n,1))\n",
        "  d1 = (np.log(S[:,0:-1]/K)+(r+sigma**2/2)*ttm[:,0:-1])/(sigma*np.sqrt(ttm[:,0:-1]));\n",
        "  d2 = d1-sigma*np.sqrt(ttm[:,0:-1]);\n",
        "  call[:,0:-1] = S[:,0:-1]*norm.pdf(d1)-K*np.exp(-r*ttm[:,0:-1])*norm.pdf(d2);\n",
        "  call[:,-1] = np.max(S[:,-1]-K,0)\n",
        "  return d1,d2,call"
      ],
      "metadata": {
        "id": "Q5n1oFMlSwMh"
      },
      "execution_count": null,
      "outputs": []
    },
    {
      "cell_type": "code",
      "source": [
        "d11,d22,calls = bs_call_pricing(stocks,T,r,K,sigma);"
      ],
      "metadata": {
        "id": "oLB6ZpZnS9OI"
      },
      "execution_count": null,
      "outputs": []
    },
    {
      "cell_type": "code",
      "source": [
        "plt.plot(norm.pdf(d22.T));\n",
        "plt.plot(norm.pdf(d11.T));\n",
        "plt.plot(calls.T)"
      ],
      "metadata": {
        "colab": {
          "base_uri": "https://localhost:8080/",
          "height": 347
        },
        "id": "sQDFXmmWUJCe",
        "outputId": "92cb710f-9863-4ccb-fb19-e9e4554f62a7"
      },
      "execution_count": null,
      "outputs": [
        {
          "output_type": "execute_result",
          "data": {
            "text/plain": [
              "[<matplotlib.lines.Line2D at 0x7f7dcd4d68d0>,\n",
              " <matplotlib.lines.Line2D at 0x7f7dcd4efe50>,\n",
              " <matplotlib.lines.Line2D at 0x7f7dcd4effd0>,\n",
              " <matplotlib.lines.Line2D at 0x7f7dcd4f8210>,\n",
              " <matplotlib.lines.Line2D at 0x7f7dcd4f83d0>]"
            ]
          },
          "metadata": {},
          "execution_count": 37
        },
        {
          "output_type": "display_data",
          "data": {
            "image/png": "[encoded data removed]",
            "text/plain": [
              "<Figure size 432x288 with 1 Axes>"
            ]
          },
          "metadata": {
            "needs_background": "light"
          }
        }
      ]
    },
    {
      "cell_type": "code",
      "source": [
        "a = np.array([[1,2,3,4,5,6,7,8,9],[1,2,3,4,5,6,7,8,9]])\n",
        "a[:,0:-1]=0\n",
        "a[:,-1]=1\n",
        "a"
      ],
      "metadata": {
        "colab": {
          "base_uri": "https://localhost:8080/"
        },
        "id": "vkTu4DdZUMb5",
        "outputId": "f9bda095-990e-4342-adfd-b719226b8dc0"
      },
      "execution_count": null,
      "outputs": [
        {
          "output_type": "execute_result",
          "data": {
            "text/plain": [
              "array([[0, 0, 0, 0, 0, 0, 0, 0, 1],\n",
              "       [0, 0, 0, 0, 0, 0, 0, 0, 1]])"
            ]
          },
          "metadata": {},
          "execution_count": 39
        }
      ]
    },
    {
      "cell_type": "code",
      "source": [
        "nn"
      ],
      "metadata": {
        "colab": {
          "base_uri": "https://localhost:8080/"
        },
        "id": "OC3pBFP0UO5Q",
        "outputId": "0f7b6dc6-ec31-4a72-ef73-acbbd233e014"
      },
      "execution_count": null,
      "outputs": [
        {
          "output_type": "execute_result",
          "data": {
            "text/plain": [
              "5"
            ]
          },
          "metadata": {},
          "execution_count": 28
        }
      ]
    },
    {
      "cell_type": "code",
      "source": [
        "np.shape(stocks)"
      ],
      "metadata": {
        "colab": {
          "base_uri": "https://localhost:8080/"
        },
        "id": "-fYQRBEnUSlA",
        "outputId": "a873f2cd-974e-408f-b1f1-31bc62a477af"
      },
      "execution_count": null,
      "outputs": [
        {
          "output_type": "execute_result",
          "data": {
            "text/plain": [
              "(10000, 5)"
            ]
          },
          "metadata": {},
          "execution_count": 30
        }
      ]
    },
    {
      "cell_type": "code",
      "source": [
        "stocks"
      ],
      "metadata": {
        "colab": {
          "base_uri": "https://localhost:8080/"
        },
        "id": "4FOScg7JUYlp",
        "outputId": "2c916845-00c7-43e1-e9e6-85d7d9b4f3bb"
      },
      "execution_count": null,
      "outputs": [
        {
          "output_type": "execute_result",
          "data": {
            "text/plain": [
              "array([[1.00058479, 1.00298474, 0.99763537, 0.99995133, 0.99978762],\n",
              "       [0.99665727, 1.00092796, 1.00017669, 1.0006686 , 1.00143816],\n",
              "       [0.99177022, 0.99958842, 1.00026064, 1.00154032, 1.00370176],\n",
              "       ...,\n",
              "       [0.73571344, 0.75279955, 0.96056176, 1.11104883, 0.96116492],\n",
              "       [0.73402127, 0.75377108, 0.96153861, 1.11361372, 0.96237213],\n",
              "       [0.73249986, 0.75128846, 0.96172866, 1.11258491, 0.96570923]])"
            ]
          },
          "metadata": {},
          "execution_count": 31
        }
      ]
    }
  ]
}